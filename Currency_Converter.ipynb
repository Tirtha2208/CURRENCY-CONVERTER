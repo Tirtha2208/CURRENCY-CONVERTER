{
  "nbformat": 4,
  "nbformat_minor": 0,
  "metadata": {
    "colab": {
      "name": "Currency_Converter.ipynb",
      "provenance": [],
      "authorship_tag": "ABX9TyPlJ5NngI0N4gDZvPfuXMkT"
    },
    "kernelspec": {
      "name": "python3",
      "display_name": "Python 3"
    }
  },
  "cells": [
    {
      "cell_type": "markdown",
      "metadata": {
        "id": "7F7u7BarzA6Q"
      },
      "source": [
        "### THE CURRENCY CONVERTER\r\n",
        "***The currency converter using currencyconverter package of python***"
      ]
    },
    {
      "cell_type": "code",
      "metadata": {
        "id": "eXMHEZhPzmLV"
      },
      "source": [
        "pip install currencyconverter"
      ],
      "execution_count": null,
      "outputs": []
    },
    {
      "cell_type": "code",
      "metadata": {
        "id": "Y2I9LA3KzpcZ"
      },
      "source": [
        "from currency_converter import CurrencyConverter as CC"
      ],
      "execution_count": 2,
      "outputs": []
    },
    {
      "cell_type": "code",
      "metadata": {
        "colab": {
          "base_uri": "https://localhost:8080/"
        },
        "id": "oUsJF6rtzwYm",
        "outputId": "b269b17d-2d32-4612-c8bb-774f2a45e4d6"
      },
      "source": [
        "c=CC()\r\n",
        "print(\"*********************************************\")\r\n",
        "print(\"*          THE CURRENCY CONVERTER           *\")\r\n",
        "print(\"*********************************************\\n\\n\")\r\n",
        "\r\n",
        "choice=1\r\n",
        "while(choice!=3):\r\n",
        "    print(\"1. Want to know the all the Currencies available?\\n2. Convert a Currency.\\n3. Exit.\\n\")\r\n",
        "    choice=int(input(\"Enter your choice\\n\"))\r\n",
        "    if(choice==1):\r\n",
        "        print(\"The currency list is:\")\r\n",
        "        for i in c.currencies:\r\n",
        "            print(i,end=\" , \")\r\n",
        "        print(\"\\n\")\r\n",
        "        continue\r\n",
        "    elif(choice==2):\r\n",
        "        c1=input(\"Type your currency\\n\")\r\n",
        "        c1=c1.upper()\r\n",
        "        c2=input(\"Typer the currency you want to convert\\n\")\r\n",
        "        c2=c2.upper()\r\n",
        "        v=float(input(\"Enter the value of currency\\n\"))\r\n",
        "        r=c.convert(v,c1,c2)\r\n",
        "        print(r)\r\n",
        "        print(\"\\n\")\r\n",
        "        continue\r\n",
        "    elif(choice==3):\r\n",
        "        print(\"Thank you to use this currency converter\\n\")\r\n",
        "        break\r\n",
        "    else:\r\n",
        "        print(\"Wrong chice\\n\")\r\n",
        "        continue\r\n"
      ],
      "execution_count": 3,
      "outputs": [
        {
          "output_type": "stream",
          "text": [
            "*********************************************\n",
            "*          THE CURRENCY CONVERTER           *\n",
            "*********************************************\n",
            "\n",
            "\n",
            "1. Want to know the all the Currencies available?\n",
            "2. Convert a Currency.\n",
            "3. Exit.\n",
            "\n",
            "Enter your choice\n",
            "1\n",
            "The currency list is:\n",
            "EUR , SEK , HRK , HKD , CYP , BGN , AUD , NZD , IDR , ROL , SGD , USD , LVL , LTL , MYR , HUF , RON , MXN , CZK , PHP , SKK , NOK , JPY , ZAR , CNY , TRL , GBP , EEK , KRW , MTL , PLN , TRY , SIT , DKK , CHF , THB , ILS , ISK , RUB , CAD , INR , BRL , \n",
            "\n",
            "1. Want to know the all the Currencies available?\n",
            "2. Convert a Currency.\n",
            "3. Exit.\n",
            "\n",
            "Enter your choice\n",
            "2\n",
            "Type your currency\n",
            "inr\n",
            "Typer the currency you want to convert\n",
            "usd\n",
            "Enter the value of currency\n",
            "100\n",
            "1.3698503921591212\n",
            "\n",
            "\n",
            "1. Want to know the all the Currencies available?\n",
            "2. Convert a Currency.\n",
            "3. Exit.\n",
            "\n",
            "Enter your choice\n",
            "2\n",
            "Type your currency\n",
            "eur\n",
            "Typer the currency you want to convert\n",
            "inr\n",
            "Enter the value of currency\n",
            "1\n",
            "86.827\n",
            "\n",
            "\n",
            "1. Want to know the all the Currencies available?\n",
            "2. Convert a Currency.\n",
            "3. Exit.\n",
            "\n",
            "Enter your choice\n",
            "3\n",
            "Thank you to use this currency converter\n",
            "\n"
          ],
          "name": "stdout"
        }
      ]
    }
  ]
}